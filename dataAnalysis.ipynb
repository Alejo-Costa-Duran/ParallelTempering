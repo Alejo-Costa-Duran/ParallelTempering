{
 "cells": [
  {
   "cell_type": "code",
   "execution_count": 1,
   "metadata": {},
   "outputs": [],
   "source": [
    "import numpy as np\n",
    "import matplotlib.pyplot as plt\n",
    "import pandas as pd\n",
    "import numba\n",
    "\n",
    "### Pyplot parameters for plotting\n",
    "plt.rcParams.update({\n",
    "    'text.usetex': False,\n",
    "    'font.family': 'serif',  # Use a serif font\n",
    "    'font.size': 10,         # Adjust the font size to match your LaTeX document\n",
    "})\n",
    "\n",
    "# For a two-column document, set the figure width to be within the column width\n",
    "column_width_pt = 246  # Adjust this based on your document's column width\n",
    "inches_per_pt = 1/72.27\n",
    "golden_ratio = (5**0.5 - 1) / 2  # Golden ratio to make the figure aesthetically pleasing\n",
    "\n",
    "fig_width = column_width_pt * inches_per_pt\n",
    "fig_height = fig_width * golden_ratio\n",
    "\n",
    "\n",
    "\n",
    "plt.style.use('default')\n",
    "params = {\"ytick.color\" : \"black\",\n",
    "          \"xtick.color\" : \"black\",\n",
    "          \"axes.labelcolor\" : \"black\",\n",
    "          \"axes.edgecolor\" : \"black\",\n",
    "          \"text.usetex\" : True,\n",
    "          \"font.family\" : \"serif\",\n",
    "          \"font.serif\" : [\"Computer Modern Serif\"],\n",
    "          \"lines.linewidth\" : 1.2,\n",
    "          'xtick.minor.width' : 0.75,\n",
    "          'xtick.major.width' : 0.75,\n",
    "          'ytick.minor.width' : 0.75,\n",
    "          'ytick.major.width' : 0.75,\n",
    "          'axes.spines.top' : True,\n",
    "          'axes.spines.right' : True,\n",
    "          'axes.linewidth' : 1.5}\n",
    "plt.rcParams.update(params)\n",
    "plt.rc('figure', figsize=(fig_width, fig_height))\n",
    "plt.rc('legend', frameon=False)\n",
    "plt.rc('xtick', direction='in')\n",
    "plt.rc('ytick', direction='in')\n",
    "\n",
    "def blocking_cv(x,temperatura, n = 1000):\n",
    "    x = np.array(x)\n",
    "    n0 = int(len(x)/n)\n",
    "    cvs = np.zeros(n0)\n",
    "    for idx in range(n0):\n",
    "        e0 = x[idx*n:(idx+1)*n]\n",
    "        e0sq = np.power(e0,2)\n",
    "        cvs[idx] = (np.mean(e0sq)-np.mean(e0)**2)/(temperatura*temperatura)\n",
    "    return (np.mean(cvs),np.sqrt(np.mean(np.power(cvs,2))-np.mean(cvs)**2))\n",
    "\n",
    "def bootstrap_cv(x, temperatura, n=100):\n",
    "    x = np.array(x)\n",
    "    cvs = np.zeros(n)\n",
    "    for iteration in range(n):\n",
    "        x_resampled = np.random.choice(x,len(x))\n",
    "        cvs[iteration] = (np.mean(np.power(x_resampled,2))-np.mean(x_resampled)**2)/(temperatura**2)\n",
    "\n",
    "    return (np.mean(cvs),np.sqrt(np.mean(np.power(cvs,2))-np.mean(cvs)**2))\n",
    "\n",
    "def process_data(fileRoot,numFiles,nSpins, distances, bootstrap_n = 1000):  \n",
    "    e_mean = np.zeros(numFiles)\n",
    "    m_mean = np.zeros(numFiles)\n",
    "    cv_mean = np.zeros(numFiles)\n",
    "    cv_mean_err = np.zeros(numFiles)\n",
    "    corr_mean = np.zeros((distances+1,numFiles))\n",
    "    amount = 0\n",
    "    headers = ['Energia','Magnetizacion','Temperatura']\n",
    "    temp_list = []\n",
    "    for idx in range(distances+1):\n",
    "        headers.append('Corr'+str(idx))\n",
    "    for idx in range(numFiles):\n",
    "        procesos_df = pd.read_csv(fileRoot+str(idx)+\".csv\",delimiter=\"\\t\", skiprows = 1, header = None,names = headers)\n",
    "        e = np.array(procesos_df[\"Energia\"].to_list())\n",
    "\n",
    "        #print(\"Unit cells: \",int(nSpins/24),\"Current file idx\",idx,'       ',end ='\\r')\n",
    "        m = np.array(procesos_df[\"Magnetizacion\"].to_list())\n",
    "        t = np.array(procesos_df[\"Temperatura\"].to_list())\n",
    "        t = t[0]\n",
    "        print(\"Mean mag gs: \",np.mean(m[e == np.min(e)])/(nSpins),\" Lowest energy is: \",np.min(e),\"At temperature: \", t)\n",
    "        #print(t)\n",
    "        #plt.plot(e[:100])\n",
    "        e_mean[idx] = np.mean(e)\n",
    "        cvs =  bootstrap_cv(e,t,n = bootstrap_n)\n",
    "        cv_mean[idx] += cvs[0]\n",
    "        cv_mean_err[idx] += cvs[1]\n",
    "        m_mean[idx] = np.mean(m)\n",
    "        temp_list.append(t)\n",
    "        \n",
    "    return (corr_mean/(amount),e_mean/(nSpins),m_mean/(nSpins),cv_mean/(nSpins),cv_mean_err/(nSpins),np.array(temp_list))"
   ]
  },
  {
   "cell_type": "markdown",
   "metadata": {},
   "source": [
    "### No external field"
   ]
  },
  {
   "cell_type": "code",
   "execution_count": 3,
   "metadata": {},
   "outputs": [
    {
     "name": "stdout",
     "output_type": "stream",
     "text": [
      "Unit cells:  512 Current file idx 6        \r"
     ]
    },
    {
     "ename": "KeyboardInterrupt",
     "evalue": "",
     "output_type": "error",
     "traceback": [
      "\u001b[0;31m---------------------------------------------------------------------------\u001b[0m",
      "\u001b[0;31mKeyboardInterrupt\u001b[0m                         Traceback (most recent call last)",
      "Cell \u001b[0;32mIn[3], line 4\u001b[0m\n\u001b[1;32m      1\u001b[0m \u001b[38;5;66;03m#corr64,e64,m64,cv64,cverr64, t64 = process_data(\"../PT-Data/0Field/DatosN64Proceso\",50,24*64,9)\u001b[39;00m\n\u001b[1;32m      2\u001b[0m \u001b[38;5;66;03m#corr1, e1,m1,cv1,cverr1, t1 = process_data(\"../PT-Data/0Field/DatosN1Proceso\",50,24,-1)\u001b[39;00m\n\u001b[1;32m      3\u001b[0m \u001b[38;5;66;03m#corr8, e8,m8,cv8,cverr8, t8 = process_data(\"../PT-Data/0Field/DatosN8Proceso\",50,24*8,-1)\u001b[39;00m\n\u001b[0;32m----> 4\u001b[0m corr512, e512,m512,cv512,cverr512, t512 \u001b[38;5;241m=\u001b[39m \u001b[43mprocess_data\u001b[49m\u001b[43m(\u001b[49m\u001b[38;5;124;43m\"\u001b[39;49m\u001b[38;5;124;43m../PT-Data/0Field/DatosN512Proceso\u001b[39;49m\u001b[38;5;124;43m\"\u001b[39;49m\u001b[43m,\u001b[49m\u001b[38;5;241;43m50\u001b[39;49m\u001b[43m,\u001b[49m\u001b[38;5;241;43m24\u001b[39;49m\u001b[38;5;241;43m*\u001b[39;49m\u001b[38;5;241;43m512\u001b[39;49m\u001b[43m,\u001b[49m\u001b[38;5;241;43m-\u001b[39;49m\u001b[38;5;241;43m1\u001b[39;49m\u001b[43m)\u001b[49m\n",
      "Cell \u001b[0;32mIn[2], line 85\u001b[0m, in \u001b[0;36mprocess_data\u001b[0;34m(fileRoot, numFiles, nSpins, distances, bootstrap_n)\u001b[0m\n\u001b[1;32m     82\u001b[0m \u001b[38;5;66;03m#print(t)\u001b[39;00m\n\u001b[1;32m     83\u001b[0m \u001b[38;5;66;03m#plt.plot(e[:100])\u001b[39;00m\n\u001b[1;32m     84\u001b[0m e_mean[idx] \u001b[38;5;241m=\u001b[39m np\u001b[38;5;241m.\u001b[39mmean(e)\n\u001b[0;32m---> 85\u001b[0m cvs \u001b[38;5;241m=\u001b[39m  \u001b[43mbootstrap_cv\u001b[49m\u001b[43m(\u001b[49m\u001b[43me\u001b[49m\u001b[43m,\u001b[49m\u001b[43mt\u001b[49m\u001b[43m,\u001b[49m\u001b[43mn\u001b[49m\u001b[43m \u001b[49m\u001b[38;5;241;43m=\u001b[39;49m\u001b[43m \u001b[49m\u001b[43mbootstrap_n\u001b[49m\u001b[43m)\u001b[49m\n\u001b[1;32m     86\u001b[0m cv_mean[idx] \u001b[38;5;241m+\u001b[39m\u001b[38;5;241m=\u001b[39m cvs[\u001b[38;5;241m0\u001b[39m]\n\u001b[1;32m     87\u001b[0m cv_mean_err[idx] \u001b[38;5;241m+\u001b[39m\u001b[38;5;241m=\u001b[39m cvs[\u001b[38;5;241m1\u001b[39m]\n",
      "Cell \u001b[0;32mIn[2], line 59\u001b[0m, in \u001b[0;36mbootstrap_cv\u001b[0;34m(x, temperatura, n)\u001b[0m\n\u001b[1;32m     57\u001b[0m cvs \u001b[38;5;241m=\u001b[39m np\u001b[38;5;241m.\u001b[39mzeros(n)\n\u001b[1;32m     58\u001b[0m \u001b[38;5;28;01mfor\u001b[39;00m iteration \u001b[38;5;129;01min\u001b[39;00m \u001b[38;5;28mrange\u001b[39m(n):\n\u001b[0;32m---> 59\u001b[0m     x_resampled \u001b[38;5;241m=\u001b[39m \u001b[43mnp\u001b[49m\u001b[38;5;241;43m.\u001b[39;49m\u001b[43mrandom\u001b[49m\u001b[38;5;241;43m.\u001b[39;49m\u001b[43mchoice\u001b[49m\u001b[43m(\u001b[49m\u001b[43mx\u001b[49m\u001b[43m,\u001b[49m\u001b[38;5;28;43mlen\u001b[39;49m\u001b[43m(\u001b[49m\u001b[43mx\u001b[49m\u001b[43m)\u001b[49m\u001b[43m)\u001b[49m\n\u001b[1;32m     60\u001b[0m     cvs[iteration] \u001b[38;5;241m=\u001b[39m (np\u001b[38;5;241m.\u001b[39mmean(np\u001b[38;5;241m.\u001b[39mpower(x_resampled,\u001b[38;5;241m2\u001b[39m))\u001b[38;5;241m-\u001b[39mnp\u001b[38;5;241m.\u001b[39mmean(x_resampled)\u001b[38;5;241m*\u001b[39m\u001b[38;5;241m*\u001b[39m\u001b[38;5;241m2\u001b[39m)\u001b[38;5;241m/\u001b[39m(temperatura\u001b[38;5;241m*\u001b[39m\u001b[38;5;241m*\u001b[39m\u001b[38;5;241m2\u001b[39m)\n\u001b[1;32m     62\u001b[0m \u001b[38;5;28;01mreturn\u001b[39;00m (np\u001b[38;5;241m.\u001b[39mmean(cvs),np\u001b[38;5;241m.\u001b[39msqrt(np\u001b[38;5;241m.\u001b[39mmean(np\u001b[38;5;241m.\u001b[39mpower(cvs,\u001b[38;5;241m2\u001b[39m))\u001b[38;5;241m-\u001b[39mnp\u001b[38;5;241m.\u001b[39mmean(cvs)\u001b[38;5;241m*\u001b[39m\u001b[38;5;241m*\u001b[39m\u001b[38;5;241m2\u001b[39m))\n",
      "\u001b[0;31mKeyboardInterrupt\u001b[0m: "
     ]
    }
   ],
   "source": [
    "#corr64,e64,m64,cv64,cverr64, t64 = process_data(\"../PT-Data/0Field/DatosN64Proceso\",50,24*64,9)\n",
    "#corr1, e1,m1,cv1,cverr1, t1 = process_data(\"../PT-Data/0Field/DatosN1Proceso\",50,24,-1)\n",
    "#corr8, e8,m8,cv8,cverr8, t8 = process_data(\"../PT-Data/0Field/DatosN8Proceso\",50,24*8,-1)\n",
    "corr512, e512,m512,cv512,cverr512, t512 = process_data(\"../PT-Data/0Field/DatosN512Proceso\",50,24*512,-1)"
   ]
  },
  {
   "cell_type": "code",
   "execution_count": 4,
   "metadata": {},
   "outputs": [],
   "source": [
    "np.save(\"./ProcessedData/corr512.npy\",corr512)\n",
    "np.save(\"./ProcessedData/e512.npy\",e512)\n",
    "np.save(\"./ProcessedData/m512.npy\",m512)\n",
    "np.save(\"./ProcessedData/cv512.npy\",cv512)\n",
    "np.save(\"./ProcessedData/cverr512.npy\",cverr512)\n",
    "np.save(\"./ProcessedData/t512.npy\",t512)\n",
    "\n",
    "# np.save(\"./corr64.npy\",corr64)\n",
    "# np.save(\"./e64.npy\",e64)\n",
    "# np.save(\"./m64.npy\",m64)\n",
    "# np.save(\"./cv64.npy\",cv64)\n",
    "# np.save(\"./cverr64.npy\",cverr64)\n",
    "# np.save(\"./t64.npy\",t64)\n",
    "\n",
    "# np.save(\"./e1.npy\",e1)\n",
    "# np.save(\"./m1.npy\",m1)\n",
    "# np.save(\"./cv1.npy\",cv1)\n",
    "# np.save(\"./cverr1.npy\",cverr1)\n",
    "# np.save(\"./t1.npy\",t1)\n",
    "\n",
    "# np.save(\"./e8.npy\",e8)\n",
    "# np.save(\"./m8.npy\",m8)\n",
    "# np.save(\"./cv8.npy\",cv8)\n",
    "# np.save(\"./cverr8.npy\",cverr8)\n",
    "# np.save(\"./t8.npy\",t8)\n"
   ]
  },
  {
   "cell_type": "code",
   "execution_count": 2,
   "metadata": {},
   "outputs": [],
   "source": [
    "corr64 = np.load(\"./ProcessedData/corr64.npy\")\n",
    "e64 = np.load(\"./ProcessedData/e64.npy\")\n",
    "m64 = np.load(\"./ProcessedData/m64.npy\")\n",
    "cv64 = np.load(\"./ProcessedData/cv64.npy\")\n",
    "cverr64 = np.load(\"./ProcessedData/cverr64.npy\")\n",
    "t64 = np.load(\"./ProcessedData/t64.npy\")\n",
    "\n",
    "e1 = np.load(\"./ProcessedData/e1.npy\")\n",
    "m1 = np.load(\"./ProcessedData/m1.npy\")\n",
    "cv1 = np.load(\"./ProcessedData/cv1.npy\")\n",
    "cverr1 = np.load(\"./ProcessedData/cverr1.npy\")\n",
    "t1 = np.load(\"./ProcessedData/t1.npy\")\n",
    "\n",
    "e8 = np.load(\"./ProcessedData/e8.npy\")\n",
    "m8 = np.load(\"./ProcessedData/m8.npy\")\n",
    "cv8 = np.load(\"./ProcessedData/cv8.npy\")\n",
    "cverr8 = np.load(\"./ProcessedData/cverr8.npy\")\n",
    "t8 = np.load(\"./ProcessedData/t8.npy\")\n",
    "\n",
    "corr512 = np.load(\"./ProcessedData/corr512.npy\")\n",
    "e512 = np.load(\"./ProcessedData/e512.npy\")\n",
    "m512 = np.load(\"./ProcessedData/m512.npy\")\n",
    "cv512 = np.load(\"./ProcessedData/cv512.npy\")\n",
    "cverr512 = np.load(\"./ProcessedData/cverr512.npy\")\n",
    "t512 = np.load(\"./ProcessedData/t512.npy\")\n",
    "\n",
    "e48open = np.load(\"./ProcessedData/e48open.npy\")\n",
    "t48open = np.load(\"./ProcessedData/t48open.npy\")\n",
    "cv48open = np.load(\"./ProcessedData/cv48open.npy\")\n",
    "cverr48open = np.load(\"./ProcessedData/cverr48open.npy\")\n",
    "\n",
    "e363open = np.load(\"./ProcessedData/e363open.npy\")\n",
    "t363open = np.load(\"./ProcessedData/t363open.npy\")\n",
    "cv363open = np.load(\"./ProcessedData/cv363open.npy\")\n",
    "cverr363open = np.load(\"./ProcessedData/cverr363open.npy\")\n",
    "\n",
    "e960open = np.load(\"./ProcessedData/e960open.npy\")\n",
    "t960open = np.load(\"./ProcessedData/t960open.npy\")\n",
    "cv960open = np.load(\"./ProcessedData/cv960open.npy\")\n",
    "cverr960open = np.load(\"./ProcessedData/cverr960open.npy\")"
   ]
  },
  {
   "cell_type": "code",
   "execution_count": 8,
   "metadata": {},
   "outputs": [
    {
     "name": "stdout",
     "output_type": "stream",
     "text": [
      "[0.00000000e+00 7.24754313e-06 9.75487223e-05 1.92208046e-04\n",
      " 2.43040829e-04 2.85183702e-04 3.09728377e-04 3.25598018e-04\n",
      " 3.45425425e-04 3.43967396e-04 3.60389177e-04 3.77369970e-04\n",
      " 3.65808602e-04 3.82543377e-04 4.02952639e-04 3.71666413e-04\n",
      " 3.91814000e-04 3.84574098e-04 3.78158685e-04 3.64215794e-04\n",
      " 3.61940965e-04 3.57503156e-04 3.53074919e-04 3.32006195e-04\n",
      " 3.23188703e-04 3.21750538e-04 3.06486413e-04 2.77301870e-04\n",
      " 2.81467532e-04 2.67823533e-04 2.57529753e-04 2.37739453e-04\n",
      " 2.26902381e-04 2.20043245e-04 1.97159721e-04 1.85106224e-04\n",
      " 1.63946252e-04 1.67089040e-04 1.47501784e-04 1.31549951e-04\n",
      " 1.23526710e-04 1.06931655e-04 9.34676598e-05 7.93484478e-05\n",
      " 7.26899438e-05 6.00125876e-05 4.92291179e-05 3.79757436e-05\n",
      " 2.85349059e-05 2.40188942e-05]\n"
     ]
    }
   ],
   "source": [
    "print(cverr960open)"
   ]
  },
  {
   "cell_type": "code",
   "execution_count": 26,
   "metadata": {},
   "outputs": [
    {
     "data": {
      "image/png": "[encoded data removed]",
      "text/plain": [
       "<Figure size 340.39x210.373 with 1 Axes>"
      ]
     },
     "metadata": {},
     "output_type": "display_data"
    },
    {
     "data": {
      "image/png": "[encoded data removed]",
      "text/plain": [
       "<Figure size 340.39x210.373 with 1 Axes>"
      ]
     },
     "metadata": {},
     "output_type": "display_data"
    },
    {
     "data": {
      "image/png": "[encoded data removed]",
      "text/plain": [
       "<Figure size 340.39x210.373 with 1 Axes>"
      ]
     },
     "metadata": {},
     "output_type": "display_data"
    }
   ],
   "source": [
    "figCv, axCv = plt.subplots() \n",
    "axCv.errorbar(np.array(t1),cv1,2*cverr1, label = r'$N_C = 1$')\n",
    "axCv.errorbar(np.array(t8),cv8,2*cverr8, label = r'$N_C = 8$')\n",
    "axCv.errorbar(np.array(t64),cv64,2*cverr64, label = r'$N_C = 64$')\n",
    "axCv.errorbar(np.array(t512),cv512,2*cverr512, label = r'$N_C = 512$')\n",
    "axCv.set_ylabel(r'$Cv$')\n",
    "axCv.set_xlabel(r'$T/J$')\n",
    "axCv.legend()\n",
    "figCv.savefig(\"./fig_chHypModels_Cv37.eps\",format = 'eps',dpi=800, bbox_inches = 'tight',pad_inches = 0.03)\n",
    "figCv.show()\n",
    "\n",
    "\n",
    "figEnergy, axEnergy = plt.subplots()\n",
    "axEnergy.plot(np.array(t1),e1, label = r'$N_C = 1$')\n",
    "axEnergy.plot(np.array(t8),e8, label = r'$N_C = 8$')\n",
    "axEnergy.plot(np.array(t64),e64, label = r'$N_C = 64$')\n",
    "axEnergy.plot(np.array(t512),e512, label = r'$N_C = 512$')\n",
    "axEnergy.set_ylabel(r'$E/J$')\n",
    "axEnergy.set_xlabel(r'$T/J$')\n",
    "axEnergy.legend()\n",
    "figEnergy.savefig(\"./EnergyAntiferro.eps\",format = 'eps',dpi=800, bbox_inches = 'tight',pad_inches = 0.03)\n",
    "figEnergy.show()\n",
    "\n",
    "\n",
    "figCvOp, axCvOp = plt.subplots() \n",
    "axCvOp.errorbar(np.array(t960open),cv960open,2*cverr960open, label = r'Abiertas')\n",
    "axCvOp.errorbar(np.array(t512),cv512,2*cverr512, label = r'Periódicas')\n",
    "axCvOp.set_ylabel(r'$Cv$')\n",
    "axCvOp.set_xlabel(r'$T/J$')\n",
    "axCvOp.legend()\n",
    "figCvOp.savefig(\"test.png\")\n",
    "figCvOp.show()\n",
    "figCvOp.savefig(\"./fig_chHypModels_Cv37OpvsPer.eps\",format = 'eps',dpi=800, bbox_inches = 'tight',pad_inches = 0.03)\n",
    "#figCvOp.show()\n"
   ]
  },
  {
   "cell_type": "code",
   "execution_count": 43,
   "metadata": {},
   "outputs": [],
   "source": [
    "corr64[-1,:] =corr64[-1,:]/(64*24) "
   ]
  },
  {
   "cell_type": "code",
   "execution_count": 47,
   "metadata": {},
   "outputs": [
    {
     "data": {
      "image/png": "[encoded data removed]",
      "text/plain": [
       "<Figure size 340.39x210.373 with 1 Axes>"
      ]
     },
     "metadata": {},
     "output_type": "display_data"
    }
   ],
   "source": [
    "figCorr, axCorr = plt.subplots()\n",
    "axCorr.plot(np.linspace(0,10,10)[1:],np.abs(corr64)[1:,0],'x-', label = r'$N_C = 1$')\n",
    "axCorr.plot(np.linspace(0,10,10)[1:],np.abs(corr64)[1:,1],'x-', label = r'$N_C = 1$')\n",
    "axCorr.set_xscale('log')\n",
    "axCorr.set_yscale('log')"
   ]
  },
  {
   "cell_type": "code",
   "execution_count": null,
   "metadata": {},
   "outputs": [],
   "source": []
  },
  {
   "cell_type": "code",
   "execution_count": 25,
   "metadata": {},
   "outputs": [
    {
     "name": "stdout",
     "output_type": "stream",
     "text": [
      "[0.22611943 0.11366123]\n"
     ]
    },
    {
     "data": {
      "image/png": "[encoded data removed]",
      "text/plain": [
       "<Figure size 340.39x210.373 with 1 Axes>"
      ]
     },
     "metadata": {},
     "output_type": "display_data"
    }
   ],
   "source": [
    "### Entropy calculation\n",
    "from scipy.integrate import simps as simps\n",
    "from scipy.integrate import trapz as trapz\n",
    "def entropy(cv, temp):\n",
    "    e1 = [np.log(2)-trapz(cv[n:]/temp[n:],temp[n:]) for n in range(len(cv))]\n",
    "    return e1\n",
    "\n",
    "\n",
    "figEntropy, axEntropy = plt.subplots()\n",
    "\n",
    "\n",
    "#axEntropy.plot(t1,entropy(cv1,t1), label = r'$N_C = 1$')\n",
    "#axEntropy.plot(t8,entropy(cv8,t8), label = r'$N_C = 8$')\n",
    "#axEntropy.plot(t64,entropy(cv64,t64), label = r'$N_C = 64$')\n",
    "axEntropy.plot(t512,entropy(cv512,t512), label = r'Periodicas')\n",
    "axEntropy.plot(t960open,entropy(cv960open,t960open), label = r'Abiertas')\n",
    "axEntropy.hlines(np.log(2),0,10,linestyles='dashed')\n",
    "axEntropy.set_ylabel(r'$S$')\n",
    "axEntropy.set_xlabel(r'$T/J$')\n",
    "axEntropy.legend()\n",
    "\n",
    "entropies = np.array([entropy(cv512,t512)[0],entropy(cv960open,t960open)[0]])\n",
    "\n",
    "figEntropy.savefig(\"./fig_chHypModels_entropy37.eps\",format = 'eps',dpi=800, bbox_inches = 'tight',pad_inches = 0.03)\n",
    "figEntropy.show()\n",
    "print(entropies)"
   ]
  },
  {
   "cell_type": "markdown",
   "metadata": {},
   "source": [
    "## With external field"
   ]
  },
  {
   "cell_type": "code",
   "execution_count": 23,
   "metadata": {},
   "outputs": [
    {
     "name": "stdout",
     "output_type": "stream",
     "text": [
      "Mean mag gs:  0.125  Lowest energy is:  -236 At temperature:  0.01\n",
      "Mean mag gs:  0.125  Lowest energy is:  -236 At temperature:  0.131376\n",
      "Mean mag gs:  0.125  Lowest energy is:  -236 At temperature:  0.219251\n",
      "Mean mag gs:  0.125  Lowest energy is:  -236 At temperature:  0.289728\n",
      "Mean mag gs:  0.125  Lowest energy is:  -236 At temperature:  0.340823\n",
      "Mean mag gs:  0.125  Lowest energy is:  -236 At temperature:  0.379602\n",
      "Mean mag gs:  0.125  Lowest energy is:  -236 At temperature:  0.408956\n",
      "Mean mag gs:  0.125  Lowest energy is:  -236 At temperature:  0.434811\n",
      "Mean mag gs:  0.125  Lowest energy is:  -236 At temperature:  0.459629\n",
      "Mean mag gs:  0.10416666666666667  Lowest energy is:  -234 At temperature:  0.486642\n",
      "Mean mag gs:  0.10416666666666667  Lowest energy is:  -234 At temperature:  0.516451\n",
      "Mean mag gs:  0.10416666666666667  Lowest energy is:  -234 At temperature:  0.549955\n",
      "Mean mag gs:  0.10416666666666667  Lowest energy is:  -234 At temperature:  0.585714\n",
      "Mean mag gs:  0.10416666666666667  Lowest energy is:  -234 At temperature:  0.623892\n",
      "Mean mag gs:  0.08411949685534592  Lowest energy is:  -232 At temperature:  0.664056\n",
      "Mean mag gs:  0.08333333333333333  Lowest energy is:  -232 At temperature:  0.706375\n",
      "Mean mag gs:  0.08333333333333333  Lowest energy is:  -232 At temperature:  0.750844\n",
      "Mean mag gs:  0.08333333333333333  Lowest energy is:  -232 At temperature:  0.79683\n",
      "Mean mag gs:  0.07083333333333333  Lowest energy is:  -230 At temperature:  0.843976\n",
      "Mean mag gs:  0.08333333333333333  Lowest energy is:  -230 At temperature:  0.892545\n",
      "Mean mag gs:  0.0625  Lowest energy is:  -230 At temperature:  0.943283\n",
      "Mean mag gs:  0.06994047619047619  Lowest energy is:  -227 At temperature:  0.996873\n",
      "Mean mag gs:  0.07291666666666667  Lowest energy is:  -227 At temperature:  1.05372\n",
      "Mean mag gs:  0.08333333333333333  Lowest energy is:  -228 At temperature:  1.1142\n",
      "Mean mag gs:  0.0625  Lowest energy is:  -226 At temperature:  1.17888\n",
      "Mean mag gs:  0.09375  Lowest energy is:  -223 At temperature:  1.24838\n",
      "Mean mag gs:  0.03125  Lowest energy is:  -223 At temperature:  1.32324\n",
      "Mean mag gs:  0.08333333333333333  Lowest energy is:  -220 At temperature:  1.40397\n",
      "Mean mag gs:  0.041666666666666664  Lowest energy is:  -220 At temperature:  1.4912\n",
      "Mean mag gs:  0.0625  Lowest energy is:  -217 At temperature:  1.5856\n",
      "Mean mag gs:  0.052083333333333336  Lowest energy is:  -215 At temperature:  1.68775\n",
      "Mean mag gs:  0.0625  Lowest energy is:  -214 At temperature:  1.79797\n",
      "Mean mag gs:  0.052083333333333336  Lowest energy is:  -211 At temperature:  1.9165\n",
      "Mean mag gs:  0.0625  Lowest energy is:  -210 At temperature:  2.04445\n",
      "Mean mag gs:  0.010416666666666666  Lowest energy is:  -207 At temperature:  2.18401\n",
      "Mean mag gs:  0.0625  Lowest energy is:  -206 At temperature:  2.33889\n",
      "Mean mag gs:  0.03125  Lowest energy is:  -199 At temperature:  2.51478\n",
      "Mean mag gs:  0.0625  Lowest energy is:  -198 At temperature:  2.71531\n",
      "Mean mag gs:  0.07291666666666667  Lowest energy is:  -197 At temperature:  2.9355\n",
      "Mean mag gs:  0.07291666666666667  Lowest energy is:  -193 At temperature:  3.17538\n",
      "Mean mag gs:  0.0  Lowest energy is:  -188 At temperature:  3.45155\n",
      "Mean mag gs:  0.041666666666666664  Lowest energy is:  -183 At temperature:  3.77533\n",
      "Mean mag gs:  0.07291666666666667  Lowest energy is:  -181 At temperature:  4.17207\n",
      "Mean mag gs:  0.0625  Lowest energy is:  -178 At temperature:  4.62782\n",
      "Mean mag gs:  0.020833333333333332  Lowest energy is:  -174 At temperature:  5.11526\n",
      "Mean mag gs:  0.0625  Lowest energy is:  -166 At temperature:  5.69715\n",
      "Mean mag gs:  0.052083333333333336  Lowest energy is:  -163 At temperature:  6.52581\n",
      "Mean mag gs:  0.03125  Lowest energy is:  -157 At temperature:  7.80651\n",
      "Mean mag gs:  0.041666666666666664  Lowest energy is:  -156 At temperature:  9.18764\n",
      "Mean mag gs:  0.052083333333333336  Lowest energy is:  -147 At temperature:  10\n",
      "Mean mag gs:  0.13541666666666666  Lowest energy is:  -261 At temperature:  0.01\n",
      "Mean mag gs:  0.18677692960135708  Lowest energy is:  -260 At temperature:  0.131376\n",
      "Mean mag gs:  0.18691135061656472  Lowest energy is:  -260 At temperature:  0.219251\n",
      "Mean mag gs:  0.18736567805716742  Lowest energy is:  -260 At temperature:  0.289728\n",
      "Mean mag gs:  0.18849375354911982  Lowest energy is:  -260 At temperature:  0.340823\n",
      "Mean mag gs:  0.18808411214953272  Lowest energy is:  -260 At temperature:  0.379602\n",
      "Mean mag gs:  0.18806818181818183  Lowest energy is:  -260 At temperature:  0.408956\n",
      "Mean mag gs:  0.18838652482269502  Lowest energy is:  -260 At temperature:  0.434811\n",
      "Mean mag gs:  0.18615591397849462  Lowest energy is:  -260 At temperature:  0.459629\n",
      "Mean mag gs:  0.1898148148148148  Lowest energy is:  -260 At temperature:  0.486642\n",
      "Mean mag gs:  0.17857142857142858  Lowest energy is:  -260 At temperature:  0.516451\n",
      "Mean mag gs:  0.20833333333333334  Lowest energy is:  -260 At temperature:  0.549955\n",
      "Mean mag gs:  0.20833333333333334  Lowest energy is:  -260 At temperature:  0.585714\n",
      "Mean mag gs:  0.18154761904761904  Lowest energy is:  -258 At temperature:  0.623892\n",
      "Mean mag gs:  0.1875  Lowest energy is:  -258 At temperature:  0.664056\n",
      "Mean mag gs:  0.17708333333333334  Lowest energy is:  -257 At temperature:  0.706375\n",
      "Mean mag gs:  0.17708333333333334  Lowest energy is:  -257 At temperature:  0.750844\n",
      "Mean mag gs:  0.14583333333333334  Lowest energy is:  -254 At temperature:  0.79683\n",
      "Mean mag gs:  0.14583333333333334  Lowest energy is:  -254 At temperature:  0.843976\n",
      "Mean mag gs:  0.17708333333333334  Lowest energy is:  -253 At temperature:  0.892545\n",
      "Mean mag gs:  0.16666666666666666  Lowest energy is:  -252 At temperature:  0.943283\n",
      "Mean mag gs:  0.17708333333333334  Lowest energy is:  -249 At temperature:  0.996873\n",
      "Mean mag gs:  0.21875  Lowest energy is:  -249 At temperature:  1.05372\n",
      "Mean mag gs:  0.19791666666666666  Lowest energy is:  -247 At temperature:  1.1142\n",
      "Mean mag gs:  0.15625  Lowest energy is:  -247 At temperature:  1.17888\n",
      "Mean mag gs:  0.15625  Lowest energy is:  -243 At temperature:  1.24838\n",
      "Mean mag gs:  0.16666666666666666  Lowest energy is:  -240 At temperature:  1.32324\n",
      "Mean mag gs:  0.16319444444444445  Lowest energy is:  -237 At temperature:  1.40397\n",
      "Mean mag gs:  0.19791666666666666  Lowest energy is:  -239 At temperature:  1.4912\n",
      "Mean mag gs:  0.14583333333333334  Lowest energy is:  -242 At temperature:  1.5856\n",
      "Mean mag gs:  0.14583333333333334  Lowest energy is:  -234 At temperature:  1.68775\n",
      "Mean mag gs:  0.13541666666666666  Lowest energy is:  -229 At temperature:  1.79797\n",
      "Mean mag gs:  0.15625  Lowest energy is:  -227 At temperature:  1.9165\n",
      "Mean mag gs:  0.17708333333333334  Lowest energy is:  -221 At temperature:  2.04445\n",
      "Mean mag gs:  0.17708333333333334  Lowest energy is:  -219 At temperature:  2.18401\n",
      "Mean mag gs:  0.15625  Lowest energy is:  -215 At temperature:  2.33889\n",
      "Mean mag gs:  0.19791666666666666  Lowest energy is:  -215 At temperature:  2.51478\n",
      "Mean mag gs:  0.1875  Lowest energy is:  -214 At temperature:  2.71531\n",
      "Mean mag gs:  0.15625  Lowest energy is:  -207 At temperature:  2.9355\n",
      "Mean mag gs:  0.16666666666666666  Lowest energy is:  -212 At temperature:  3.17538\n",
      "Mean mag gs:  0.14583333333333334  Lowest energy is:  -198 At temperature:  3.45155\n",
      "Mean mag gs:  0.09375  Lowest energy is:  -193 At temperature:  3.77533\n",
      "Mean mag gs:  0.14583333333333334  Lowest energy is:  -190 At temperature:  4.17207\n",
      "Mean mag gs:  0.19791666666666666  Lowest energy is:  -187 At temperature:  4.62782\n",
      "Mean mag gs:  0.10416666666666667  Lowest energy is:  -178 At temperature:  5.11526\n",
      "Mean mag gs:  0.11458333333333333  Lowest energy is:  -171 At temperature:  5.69715\n",
      "Mean mag gs:  0.09375  Lowest energy is:  -167 At temperature:  6.52581\n",
      "Mean mag gs:  0.14583333333333334  Lowest energy is:  -162 At temperature:  7.80651\n",
      "Mean mag gs:  0.14583333333333334  Lowest energy is:  -154 At temperature:  9.18764\n",
      "Mean mag gs:  0.16666666666666666  Lowest energy is:  -176 At temperature:  10\n"
     ]
    }
   ],
   "source": [
    "corr8F, e8F,m8F,cv8F,cverr8F, t8F = process_data(\"../PT-Data/05Field/DatosN8Proceso\",50,24*8,-1,10)\n",
    "corr8F1, e8F1,m8F1,cv8F1,cverr8F1, t8F1 = process_data(\"../PT-Data/150Field/DatosN8Proceso\",50,24*8,-1,10)\n",
    "\n"
   ]
  },
  {
   "cell_type": "code",
   "execution_count": 14,
   "metadata": {},
   "outputs": [
    {
     "ename": "NameError",
     "evalue": "name 'cvF' is not defined",
     "output_type": "error",
     "traceback": [
      "\u001b[0;31m---------------------------------------------------------------------------\u001b[0m",
      "\u001b[0;31mNameError\u001b[0m                                 Traceback (most recent call last)",
      "Cell \u001b[0;32mIn[14], line 2\u001b[0m\n\u001b[1;32m      1\u001b[0m nfinal \u001b[38;5;241m=\u001b[39m \u001b[38;5;241m50\u001b[39m\n\u001b[0;32m----> 2\u001b[0m plt\u001b[38;5;241m.\u001b[39mplot(\u001b[43mcvF\u001b[49m[:nfinal],cvF[:nfinal])\n\u001b[1;32m      3\u001b[0m plt\u001b[38;5;241m.\u001b[39mplot(cvF1[:nfinal],cvF1[:nfinal])\n",
      "\u001b[0;31mNameError\u001b[0m: name 'cvF' is not defined"
     ]
    }
   ],
   "source": [
    "nfinal = 50\n",
    "plt.plot(cvF[:nfinal],cvF[:nfinal])\n",
    "plt.plot(cvF1[:nfinal],cvF1[:nfinal])"
   ]
  },
  {
   "cell_type": "code",
   "execution_count": 7,
   "metadata": {},
   "outputs": [
    {
     "name": "stdout",
     "output_type": "stream",
     "text": [
      "[0.16433916 0.10777446 0.11366247]\n"
     ]
    },
    {
     "data": {
      "image/png": "[encoded data removed]",
      "text/plain": [
       "<Figure size 340.39x210.373 with 1 Axes>"
      ]
     },
     "metadata": {},
     "output_type": "display_data"
    }
   ],
   "source": [
    "figEntropyOpen, axEntropyOpen = plt.subplots()\n",
    "\n",
    "axEntropyOpen.plot(t48open,entropy(cv48open,t48open), label = r'$N_s = 48$')\n",
    "axEntropyOpen.plot(t363open,entropy(cv363open,t363open), label = r'$N_s = 363$')\n",
    "axEntropyOpen.plot(t960open,entropy(cv960open,t960open), label = r'$N_s = 960$')\n",
    "axEntropyOpen.hlines(np.log(2),0,10,linestyles='dashed')\n",
    "axEntropyOpen.set_ylabel(r'$S$')\n",
    "axEntropyOpen.set_xlabel(r'$T/J$')\n",
    "axEntropyOpen.legend()\n",
    "\n",
    "entropiesOpen = np.array([entropy(cv48open,t48open)[0],entropy(cv363open,t363open)[0],entropy(cv960open,t960open)[0]])\n",
    "print(entropiesOpen)\n",
    "figEntropyOpen.savefig(\"./fig_chHypModels_entropy37Open.eps\",format = 'eps',dpi=800, bbox_inches = 'tight',pad_inches = 0.03)\n",
    "figEntropyOpen.show()"
   ]
  },
  {
   "cell_type": "markdown",
   "metadata": {},
   "source": [
    "### Temperature ladder"
   ]
  },
  {
   "cell_type": "code",
   "execution_count": 5,
   "metadata": {},
   "outputs": [],
   "source": [
    "### Workers analysis\n",
    "\n",
    "def process_workers(fileRoot,numFiles):\n",
    "    procesos_dfs = []\n",
    "    for idx in range(numFiles):\n",
    "        procesos_dfs.append(pd.read_csv(fileRoot+str(idx)+\".csv\",delimiter=\"\\t\"))\n",
    "    dfs = pd.concat(procesos_dfs, join=\"inner\")\n",
    "\n",
    "    temp_list = sorted(list(dfs[\"Temperature\"].value_counts().index))\n",
    "    a_timeseries = []\n",
    "    m_timeseries = []\n",
    "    for t in temp_list:\n",
    "        a_timeseries.append(np.array(dfs[dfs[\"Temperature\"] == t][\"Accepts\"].to_list()))\n",
    "        m_timeseries.append(np.array(dfs[dfs[\"Temperature\"] == t][\"Total\"].to_list()))\n",
    "    a_mean = np.sum(np.array(a_timeseries),axis = 1)\n",
    "    m_mean = np.sum(np.array(m_timeseries),axis = 1)\n",
    "    plt.plot(temp_list,a_mean/m_mean)\n",
    "    plt.show()\n",
    "    return procesos_dfs\n",
    "    "
   ]
  },
  {
   "cell_type": "code",
   "execution_count": 6,
   "metadata": {},
   "outputs": [
    {
     "data": {
      "image/png": "[encoded data removed]",
      "text/plain": [
       "<Figure size 340.39x210.373 with 1 Axes>"
      ]
     },
     "metadata": {},
     "output_type": "display_data"
    }
   ],
   "source": [
    "procesos_dfs = process_workers(\"../PT-Data/Open/CountersProceso1\",50)"
   ]
  },
  {
   "cell_type": "code",
   "execution_count": 8,
   "metadata": {},
   "outputs": [
    {
     "name": "stdout",
     "output_type": "stream",
     "text": [
      "49        \r"
     ]
    }
   ],
   "source": [
    "m = 50\n",
    "from collections import Counter\n",
    "from matplotlib.colors import Normalize\n",
    "from matplotlib.cm import ScalarMappable\n",
    "\n",
    "t64 = np.array(t8F)\n",
    "f_functions = []\n",
    "upts = np.zeros(len(t64))\n",
    "dwns = np.zeros(len(t64))\n",
    "others = np.zeros(len(t64))\n",
    "for n in range(m):\n",
    "    print(n,'       ', end = '\\r')\n",
    "    ts = np.array(procesos_dfs[n].Temperature)\n",
    "    labels = np.zeros(len(ts))\n",
    "    currentLabel = 0\n",
    "    for idx,t in enumerate(ts):\n",
    "        if t == t64[0]:\n",
    "            currentLabel = 1\n",
    "        elif t==t64[-1]:\n",
    "            currentLabel = -1\n",
    "        labels[idx] = currentLabel    \n",
    "        \n",
    "\n",
    "    for idxt,t in enumerate(t64):\n",
    "        upts[idxt] += np.sum((ts == t) & (labels == 1))\n",
    "        dwns[idxt] += np.sum((ts == t) & (labels == -1))\n",
    "        others[idxt] += np.sum((ts == t) & (labels == 0))\n"
   ]
  },
  {
   "cell_type": "code",
   "execution_count": 11,
   "metadata": {},
   "outputs": [
    {
     "name": "stdout",
     "output_type": "stream",
     "text": [
      "[1.00000000e+00 9.99099995e-01 7.29092739e-01 1.88151255e-01\n",
      " 5.02753352e-02 2.33130505e-02 1.57261702e-02 1.24276522e-02\n",
      " 1.08673997e-02 9.49150710e-03 8.60818493e-03 7.93262325e-03\n",
      " 7.48801627e-03 7.21142538e-03 6.72089422e-03 6.38871790e-03\n",
      " 6.02220921e-03 5.73360408e-03 5.62724857e-03 5.57723312e-03\n",
      " 5.40106700e-03 5.25267162e-03 4.87211328e-03 4.77599455e-03\n",
      " 4.57179337e-03 4.34957930e-03 4.21736594e-03 4.10520449e-03\n",
      " 3.83110328e-03 3.64096248e-03 3.42271478e-03 3.26644704e-03\n",
      " 3.07817894e-03 2.96405817e-03 2.89797662e-03 2.72189006e-03\n",
      " 2.53986609e-03 2.23970551e-03 2.17158850e-03 2.06151332e-03\n",
      " 1.85741049e-03 1.74139878e-03 1.47331676e-03 1.22923970e-03\n",
      " 1.07316205e-03 8.89125367e-04 7.03090699e-04 4.49040863e-04\n",
      " 2.89017630e-04 0.00000000e+00]\n",
      "[0.01, 0.0324181472, 0.0548241568, 0.077242304, 0.0996604512, 0.12207859839999999, 0.1410774, 0.15765941249999998, 0.174241425, 0.1908234375, 0.20740545, 0.2232118074, 0.2370675856, 0.2509163161, 0.2647720943, 0.2786278725, 0.29184844249999997, 0.3025170785, 0.3131857145, 0.3238543505, 0.334517877, 0.3444100575, 0.3531741115, 0.3619381655, 0.3707022195, 0.3794662735, 0.3868054716, 0.3941263592, 0.4014443114, 0.40876519899999997, 0.41601441499999997, 0.4232615715, 0.430508728, 0.4380522308, 0.4460237724, 0.45399283220000003, 0.4625950274, 0.4727222011, 0.4828493748, 0.4949527492, 0.5082386205, 0.5233595248, 0.541444984, 0.5625600475, 0.5865882762, 0.6185012664, 0.6595455828, 0.7206317614, 0.8323686548, 10.0]\n"
     ]
    },
    {
     "data": {
      "text/plain": [
       "[<matplotlib.lines.Line2D at 0x745526f37d00>]"
      ]
     },
     "execution_count": 11,
     "metadata": {},
     "output_type": "execute_result"
    },
    {
     "data": {
      "image/png": "[encoded data removed]",
      "text/plain": [
       "<Figure size 340.39x210.373 with 1 Axes>"
      ]
     },
     "metadata": {},
     "output_type": "display_data"
    }
   ],
   "source": [
    "from scipy.stats import linregress as lr\n",
    "from scipy.ndimage import gaussian_filter1d\n",
    "from scipy import interpolate\n",
    "\n",
    "\n",
    "\n",
    "t64 = np.array(t363open)\n",
    "fFunc = upts/(upts+dwns)\n",
    "print(fFunc)\n",
    "fSmooth = fFunc\n",
    "deltaTs = np.diff(t64)\n",
    "\n",
    "for idx in range(len(fFunc)-1):\n",
    "    if fFunc[idx+1] > fFunc[idx]:\n",
    "        fFunc[idx+1] = fFunc[idx]\n",
    "\n",
    "for smoothing in range(200):\n",
    "    for idx in range(1,len(fFunc)-1):\n",
    "        fSmooth[idx] = 0.1*fFunc[idx-1]+0.8*fFunc[idx]+0.1*fFunc[idx+1]\n",
    "    fFunc = fSmooth\n",
    "\n",
    "\n",
    "num_interp = 10000\n",
    "\n",
    "t_interp = []\n",
    "f_interp = []\n",
    "\n",
    "for idxI in range(1,len(fFunc)):\n",
    "    for idxJ in range(num_interp):\n",
    "        t_interp.append((1.0*idxJ)/num_interp*(t64[idxI]-t64[idxI-1])+t64[idxI-1])\n",
    "        f_interp.append((1.0*idxJ)/num_interp*(fFunc[idxI]-fFunc[idxI-1])+fFunc[idxI-1])\n",
    "\n",
    "t_interp = np.array(t_interp)\n",
    "f_interp = np.array(f_interp)\n",
    "\n",
    "f_Linear = np.linspace(f_interp.max(),f_interp.min(),len(fFunc))\n",
    "\n",
    "newTs = np.zeros(len(fFunc))\n",
    "newTs[0] = t64[0]\n",
    "newTs[-1] = t64[-1]\n",
    "for idxI in range(1,len(fFunc)-1):\n",
    "    idx = np.argmin(np.abs(f_interp-f_Linear[idxI]))\n",
    "    newTs[idxI] = t_interp[idx] \n",
    "\n",
    "print(list(newTs))\n",
    "plt.plot(fFunc,'x-')\n",
    "plt.plot(f_Linear,'x-')\n",
    "#plt.plot(t_interp,f_interp-f_Linear[39],)\n",
    "#plt.show()"
   ]
  },
  {
   "cell_type": "code",
   "execution_count": 12,
   "metadata": {},
   "outputs": [
    {
     "data": {
      "text/plain": [
       "[<matplotlib.lines.Line2D at 0x745526fc4c70>]"
      ]
     },
     "execution_count": 12,
     "metadata": {},
     "output_type": "execute_result"
    },
    {
     "data": {
      "image/png": "[encoded data removed]",
      "text/plain": [
       "<Figure size 340.39x210.373 with 1 Axes>"
      ]
     },
     "metadata": {},
     "output_type": "display_data"
    }
   ],
   "source": [
    "plt.plot(newTs-t64,'x-')\n",
    "#plt.plot(t64,'x-')"
   ]
  },
  {
   "cell_type": "markdown",
   "metadata": {},
   "source": [
    "### Plateaus"
   ]
  },
  {
   "cell_type": "code",
   "execution_count": 24,
   "metadata": {},
   "outputs": [
    {
     "name": "stdout",
     "output_type": "stream",
     "text": [
      "[(-1792.0, -8), (-1792.0, 36), (-1792.0, 56), (-1792.0, 72), (-1792.0, 92), (-1792.0, 116), (-1792.0, 140), (-1792.0, 144), (-1792.0, 180), (-1792.0, 200), (-1792.0, 204), (-1792.0, 196), (-1792.0, 216), (-1736.0, 256), (-1744.0, 256), (-1733.9999999999998, 266), (-1738.0000000000002, 262), (-1737.9999999999998, 262), (-1720.0, 272), (-1688.0, 292), (-1666.0, 302), (-1582.0000000000002, 342), (-1588.0, 344), (-1511.9999999999998, 384), (-1504.0, 388), (-1452.0, 416), (-1410.0, 438), (-1364.0, 456), (-1324.0, 484), (-1300.0, 496), (-1299.9999999999998, 496), (-1290.0000000000002, 502), (-1288.0, 504), (-1210.0, 530), (-1144.0, 552), (-1095.9999999999998, 568), (-1096.0000000000002, 568), (-1076.0, 572), (-1064.0000000000002, 572), (-1036.0, 584), (-1014.0, 590), (-998.0, 594), (-982.0, 598), (-892.0, 620), (-866.0, 626), (-778.0000000000005, 646), (-840.0, 632), (-672.0, 672), (-794.0, 642), (-758.0000000000005, 650), (-672.0000000000005, 672), (-671.9999999999995, 672), (-629.9999999999995, 678), (-602.0, 682), (-588.0, 684), (-573.9999999999995, 686), (-490.0, 698), (-546.0, 690), (-518.0, 694), (-532.0, 692), (-504.0, 696), (-364.0, 716), (-531.9999999999991, 692), (-532.0000000000009, 692), (-476.0, 700), (-363.9999999999991, 716), (5375.999999999999, 1536), (5376.0, 1536), (-1792.0, 0), (-1792.0, 40), (-1792.0, 52), (-1792.0, 76), (-1792.0, 88), (-1792.0, 136), (-1792.0, 164), (-1792.0, 172), (-1792.0, 212), (-1758.0, 250), (-1746.0, 258), (-1747.9999999999998, 256), (-1723.9999999999998, 272), (-1680.0, 280), (-1690.0, 290), (-1661.9999999999998, 306), (-1582.0, 346), (-1542.0, 370), (-1522.0, 378), (-1472.0, 404), (-1462.0, 410), (-1402.0000000000002, 442), (-1350.0, 466), (-1310.0, 490), (-1318.0, 486), (-1297.9999999999998, 498), (-1304.0000000000002, 496), (-1290.0, 502), (-1286.0, 502), (-1204.0, 532), (-1144.0000000000002, 552), (-1075.9999999999998, 572), (-1096.0, 568), (-1063.9999999999998, 576), (-1079.9999999999995, 572), (-972.0, 600), (-934.0, 610), (-917.9999999999995, 614), (-736.0000000000005, 656), (-830.0, 634), (-748.0, 652), (-630.0, 678), (-574.0000000000005, 686), (-461.9999999999991, 702), (-406.0, 710), (-420.0, 708), (-238.0, 734), (-448.0, 704), (-1792.0, -16), (-1792.0, 128), (-1792.0, 152), (-1792.0, 208), (-1790.0, 194), (-1750.0, 254), (-1754.0, 250), (-1726.0, 258), (-1714.0000000000002, 282), (-1728.0000000000002, 268), (-1717.9999999999998, 274), (-1698.0, 286), (-1674.0, 298), (-1642.0, 314), (-1556.0, 360), (-1475.9999999999998, 404), (-1482.0, 398), (-1448.0, 416), (-1386.0, 450), (-1343.9999999999998, 472), (-1326.0, 482), (-1302.0, 494), (-1282.0000000000002, 506), (-1228.0, 524), (-950.0000000000005, 606), (-950.0, 606), (-866.0000000000005, 626), (-718.0, 658), (-559.9999999999995, 688), (-378.0, 714), (-462.0, 702), (-1792.0, 4), (-1792.0, 48), (-1792.0, 120), (-1792.0, 184), (-1790.0, 210), (-1760.0, 248), (-1738.0, 262), (-1752.0, 252), (-1740.0, 260), (-1602.0, 326), (-1731.9999999999998, 264), (-1700.0, 284), (-1642.0, 310), (-1651.9999999999998, 308), (-1580.0, 348), (-1476.0, 400), (-1444.0, 420), (-1382.0, 454), (-1340.0000000000002, 476), (-1312.0, 488), (-1284.0, 504), (-1234.0, 522), (-1032.0, 584), (-940.0, 608), (-616.0, 680), (-336.0, 720), (-560.0, 688), (-350.0, 718), (-1792.0, 28), (-1792.0, 104), (-1792.0, 156), (-1792.0, 192), (-1756.0, 244), (-1720.0, 252), (-1712.0, 280), (-1687.9999999999998, 284), (-1672.0, 296), (-1664.0000000000002, 304), (-1606.0, 334), (-1506.0, 382), (-1500.0, 388), (-1436.0000000000002, 424), (-1400.0, 444), (-1354.0, 466), (-1306.0, 494), (-1246.0, 518), (-720.0000000000005, 660), (-736.0, 656), (-804.0, 640), (-787.9999999999995, 644), (-728.0000000000005, 656), (-588.0000000000005, 684), (-601.9999999999995, 682), (-280.0, 728), (-223.9999999999991, 736), (-1792.0, 32), (-1792.0, 132), (-1750.0, 238), (-1724.0, 280), (-1706.0, 286), (-1716.0000000000002, 276), (-1682.0000000000002, 294), (-1622.0, 326), (-1570.0, 354), (-1466.0, 406), (-1498.0, 390), (-1394.0000000000002, 442), (-1352.0, 468), (-1334.0, 478), (-1293.9999999999998, 498), (-1296.0, 500), (-1222.0, 526), (-850.0, 630), (-860.0, 628), (-757.9999999999995, 650), (-308.0, 724), (-1792.0, 8), (-1792.0, 44), (-1792.0, 64), (-1792.0, 84), (-1736.0, 272), (-1748.0, 256), (-1706.0, 266), (-1722.0, 274), (-1726.0000000000002, 266), (-1696.0, 288), (-1594.0000000000002, 334), (-1572.0, 344), (-1578.0, 346), (-1547.9999999999998, 364), (-1484.0, 396), (-1420.0, 432), (-1332.0, 480), (-1303.9999999999998, 496), (-1252.0, 516), (-1020.0, 588), (-814.0, 638), (-503.9999999999991, 696), (-392.0, 712), (-1792.0, -12), (-1792.0, 60), (-1792.0, 188), (-1790.0, 190), (-1790.0, 214), (-1736.0000000000002, 264), (-1703.9999999999998, 272), (-1712.0, 276), (-1686.0, 290), (-1620.0, 328), (-1598.0, 338), (-1510.0, 386), (-1404.0, 436), (-1372.0, 456), (-1328.0, 480), (-1316.0000000000002, 488), (-1320.0, 484), (-560.0000000000005, 688), (-322.0, 722), (-392.0000000000009, 712), (-321.9999999999991, 722), (-1792.0, 12), (-1790.0, 158), (-1742.0, 262), (-1732.0, 268), (-1678.0, 306), (-1718.0, 270), (-1678.0, 282), (-1714.0, 274), (-1648.0, 312), (-1650.0, 310), (-1574.0, 350), (-1520.0, 380), (-1371.9999999999998, 452), (-1328.0, 484), (-1292.0, 500), (-1240.0, 520), (-774.0, 646), (-434.0, 706), (-434.0000000000009, 706), (-1792.0, 160), (-1744.0, 240), (-1756.0, 248), (-1740.0000000000002, 264), (-1724.0, 276), (-1660.0, 304), (-1508.0, 384), (-1521.9999999999998, 374), (-1396.0, 444), (-1361.9999999999998, 462), (-1336.0, 472), (-1312.0, 492), (-1143.9999999999998, 552), (-1052.0000000000002, 576), (-1037.9999999999995, 582), (-908.0, 616), (-742.0000000000005, 654), (-752.0, 652), (-574.0, 686), (-546.0000000000005, 690), (-1792.0, 176), (-1786.0, 198), (-1744.0, 260), (-1726.0, 266), (-1710.0, 278), (-1584.0, 340), (-1589.9999999999998, 342), (-1485.9999999999998, 394), (-1460.0, 408), (-1380.0, 448), (-1319.9999999999998, 488), (-1198.0, 534), (-798.0, 642), (-602.0000000000005, 682), (-504.0000000000009, 696), (-1792.0, 68), (-1792.0, 112), (-1752.0, 248), (-1758.0, 246), (-1734.0, 262), (-1726.0, 270), (-1698.0, 278), (-1662.0, 298), (-1550.0, 358), (-1548.0, 364), (-1486.0, 398), (-1394.0, 446), (-1374.0, 458), (-1304.0, 492), (-987.9999999999995, 596), (-918.0, 614), (-700.0, 664), (-734.0000000000005, 654), (-1750.0000000000002, 254), (-1746.0, 254), (-1706.0000000000002, 278), (-1724.0, 268), (-1680.0000000000002, 292), (-1524.0, 376), (-1464.0, 408), (-1414.0, 430), (-1460.0000000000002, 412), (-1382.0, 450), (-1282.0, 506), (-956.0, 604), (-364.0000000000009, 716), (-294.0, 726), (-433.9999999999991, 706), (-1734.0, 246), (-1668.0, 316), (-1730.0000000000002, 266), (-1686.0, 294), (-1648.0, 308), (-1624.0, 324), (-1538.0, 370), (-1500.0, 384), (-1388.0, 444), (-1336.0, 476), (-1322.0000000000002, 486), (-1308.0, 492), (-1314.0, 490), (-1263.9999999999998, 512), (-1064.0, 576), (-908.0000000000005, 616), (-462.0000000000009, 702), (-1792.0, -4), (-1792.0, 108), (-1722.0, 278), (-1721.9999999999998, 278), (-1684.0, 292), (-1524.0000000000002, 372), (-1546.0, 366), (-1478.0, 402), (-1430.0, 426), (-1378.0, 450), (-1150.0, 550), (-1088.0000000000002, 568), (-687.9999999999995, 668), (-710.0, 662), (-742.0, 654), (-1792.0, 96), (-1754.0, 254), (-1600.0, 336), (-1397.9999999999998, 442), (-1300.0000000000002, 496), (-819.9999999999995, 636), (-766.0000000000005, 646), (-391.9999999999991, 712), (-1792.0, 100), (-1768.0, 240), (-1722.0, 266), (-1662.0, 302), (-1698.0, 282), (-1638.0000000000002, 314), (-1662.0000000000002, 302), (-1607.9999999999998, 332), (-1476.0, 396), (-1436.0, 424), (-1340.0000000000002, 472), (-1350.0000000000002, 466), (-865.9999999999995, 626), (-1792.0, -20), (-1742.0, 250), (-1755.9999999999998, 248), (-1736.0, 264), (-1696.0000000000002, 284), (-1640.0, 316), (-1532.0, 372), (-1470.0, 406), (-1428.0, 428), (-1388.0, 448), (-1370.0, 458), (-1320.0, 488), (-1298.0000000000002, 498), (-658.0, 674), (-1792.0, 168), (-1703.9999999999998, 284), (-1694.0, 290), (-1644.0000000000002, 312), (-1552.0, 364), (-1467.9999999999998, 404), (-1412.0, 436), (-1374.0, 454), (-224.0000000000009, 736), (-1790.0, 182), (-1670.0, 298), (-1556.0, 356), (-1350.0, 470), (-1362.0, 458), (-962.0, 602), (-266.0, 730), (-1792.0, 124), (-1790.0, 198), (-1756.0, 252), (-1716.0, 264), (-1742.0, 258), (-1670.0, 302), (-1602.0, 334), (-1496.0, 392), (-1454.0000000000002, 414), (-1053.9999999999998, 578), (-694.0, 666), (-503.99999999999955, 696), (-252.0, 732), (-1732.0, 260), (-1692.0, 288), (-1606.0, 330), (-1528.0, 376), (-1432.0000000000002, 424), (-1420.0000000000002, 432), (-1348.0, 468), (-773.9999999999995, 646), (-644.0000000000005, 676), (-1714.0, 266), (-1566.0, 346), (-1610.0, 330), (-1536.0, 368), (-1404.0, 440), (-1356.0, 464), (-1360.0, 464), (-1342.0, 470), (-1304.0000000000002, 492), (-1174.0, 542), (-978.0, 598), (-898.0, 614), (-1730.0, 274), (-1723.9999999999998, 268), (-1705.9999999999998, 282), (-1712.0000000000002, 276), (-1680.0, 292), (-1586.0, 338), (-1318.0000000000002, 486), (-1082.0, 570), (-678.0, 670), (-545.9999999999995, 690), (-1738.0, 250), (-1760.0000000000002, 244), (-1618.0, 322), (-1668.0, 300), (-1630.0000000000002, 322), (-1550.0, 362), (-1460.0, 412), (-1418.0, 434), (-1330.0, 478), (-788.0, 644), (-1744.0, 252), (-1741.9999999999998, 258), (-1722.0, 270), (-1688.0, 288), (-1668.0, 288), (-1594.0000000000002, 342), (-1402.0, 442), (-1390.0, 446), (-1364.0, 460), (-1346.0, 474), (-1304.0, 496), (-914.0, 614), (-813.9999999999995, 638), (-814.0000000000005, 638), (-784.0, 644), (-1788.0, 184), (-1761.9999999999998, 246), (-1668.0, 284), (-1672.0, 300), (-1652.0, 312), (-1552.0, 360), (-1565.9999999999998, 354), (-1316.0, 484), (-1340.0, 472), (-616.0000000000005, 680), (-1730.0, 262), (-1732.0000000000002, 264), (-1708.0, 280), (-1682.0, 290), (-1636.0, 316), (-1502.0, 390), (-720.0, 660), (-668.0, 672), (-665.9999999999995, 666), (-1728.0, 276), (-1714.0, 286), (-1715.9999999999998, 272), (-1616.0000000000002, 324), (-1492.0, 388), (-1476.0000000000002, 404), (-1406.0, 438), (-1294.0, 498), (-1308.0000000000002, 492), (-1168.0, 544), (-965.9999999999995, 602), (-777.9999999999995, 646), (-1718.0, 282), (-1708.0, 276), (-1720.0000000000002, 268), (-1572.0000000000002, 344), (-1600.0, 340), (-1544.0, 364), (-1506.0, 386), (-1289.9999999999998, 502), (-1274.0, 510), (-1016.0, 588), (-1748.0, 252), (-1731.9999999999998, 268), (-1686.0, 282), (-1560.0, 356), (-1554.0, 362), (-1528.0, 372), (-1434.0, 422), (-1792.0, 80), (-1788.0, 160), (-1738.0, 266), (-1745.9999999999998, 258), (-1668.0, 296), (-1702.0, 282), (-1339.9999999999998, 472), (-1294.0000000000002, 498), (-958.0, 602), (-946.0, 606), (-898.0, 618), (-683.9999999999995, 668), (-615.9999999999995, 680), (-1718.0, 266), (-1588.0, 340), (-1426.0, 430), (-1346.0, 470), (-1112.0, 560), (-994.0, 594), (-1792.0, -28), (-1760.0, 244), (-1713.9999999999998, 286), (-1674.0, 302), (-1311.9999999999998, 488), (-1281.9999999999998, 506), (-1276.0000000000002, 508), (-1727.9999999999998, 268), (-1710.0, 274), (-1560.0, 360), (-1454.0, 414), (-764.0000000000005, 648), (-1750.0, 246), (-1730.0, 266), (-1684.0, 288), (-1529.9999999999998, 374), (-1418.0000000000002, 434), (-1330.0, 482), (-924.0000000000005, 612), (-704.0, 664), (-644.0, 676), (-1790.0, 202), (-1738.0, 258), (-1734.0, 266), (-1558.0, 354), (-1418.0, 430), (-1386.0, 446), (-1338.0, 474), (-741.9999999999995, 654), (-1792.0, 148), (-1696.0, 284), (-1675.9999999999998, 296), (-1622.0000000000002, 322), (-1540.0, 368), (-1450.0000000000002, 414), (-1358.0000000000002, 466), (-1720.0, 276), (-1708.0000000000002, 276), (-1638.0, 314), (-1576.0, 348), (-1422.0, 430), (-1378.0, 454), (-1315.9999999999998, 488), (-758.0, 650), (-1762.0, 246), (-1742.0000000000002, 262), (-1626.0, 318), (-1474.0, 402), (-1440.0, 420), (-1416.0, 436), (-1360.0000000000002, 456), (-1264.0, 512), (-1698.0, 270), (-1732.0, 264), (-1592.0, 340), (-1512.0, 384), (-1298.0, 498), (-946.0000000000005, 606), (-746.0, 654), (-1746.0, 250), (-1608.0000000000002, 332), (-1488.0, 396), (-1392.0, 444), (-952.0, 604), (-1788.0, 168), (-1766.0, 242), (-1704.0, 260), (-1650.0, 302), (-1380.0000000000002, 452), (-1161.9999999999998, 546), (-930.0, 610), (-848.0, 628), (-476.00000000000045, 700), (-1746.0000000000002, 254), (-1733.9999999999998, 262), (-1706.0, 282), (-1669.9999999999998, 298), (-1526.0, 374), (-1398.0, 442), (-1316.0, 488), (-1280.0000000000002, 508), (-694.0000000000005, 666), (-1716.0000000000002, 284), (-1720.0000000000002, 272), (-1704.0, 280), (-1608.0, 320), (-1534.0, 370), (-1504.0, 384), (-1414.0000000000002, 434), (-1332.0, 476), (-1042.0, 582), (-783.9999999999995, 644), (-1723.9999999999998, 276), (-1716.0000000000002, 268), (-1544.0, 368), (-858.0, 626), (-587.9999999999995, 684), (-1742.0000000000002, 258), (-1716.0, 272), (-1342.0, 474), (-698.0, 662), (-1750.0, 250), (-1740.0, 256), (-1702.0, 274), (-1622.0, 322), (-1571.9999999999998, 352), (-1452.0, 412), (-1438.0, 422), (-1006.0, 590), (-774.0000000000005, 646), (-762.0, 650), (-1592.0, 336), (-1472.0, 400), (-1317.9999999999998, 486), (-1000.0, 592), (-1764.0, 244), (-1702.0, 278), (-1216.0, 528), (-1728.0000000000002, 272), (-1728.0, 268), (-1656.0, 304), (-1608.0, 336), (-1608.0, 328), (-1478.0, 398), (-1368.0, 460), (-1064.0000000000002, 576), (-1022.0, 586), (-907.9999999999995, 616), (-1656.0, 300), (-1606.0000000000002, 334), (-1628.0, 320), (-1544.0, 360), (-1728.0, 264), (-1682.0, 302), (-1536.0, 372), (-1156.0000000000002, 548), (-658.0000000000005, 674), (-1616.0, 324), (-1480.0, 400), (-1105.9999999999998, 562), (-1726.0, 278), (-1652.0, 296), (-1654.0, 310), (-1376.0000000000002, 452), (-1358.0, 466), (-740.0, 652), (-573.9999999999991, 686), (-1688.0000000000002, 296), (-1631.9999999999998, 316), (-1549.9999999999998, 362), (-1422.0, 426), (-1424.0, 428), (-1357.9999999999998, 462), (-1322.0, 486), (-726.0, 658), (-1736.0, 260), (-1712.0, 284), (-1713.9999999999998, 274), (-1398.0000000000002, 442), (-820.0, 636), (-1698.0000000000002, 286), (-1564.0, 356), (-1322.0, 482), (-954.0, 602), (-1792.0, 24), (-1766.0, 238), (-1752.0000000000002, 252), (-1668.0, 292), (-1676.0, 300), (-1484.0, 400), (-1382.0, 446), (-1336.0000000000002, 476), (-1070.0, 574), (-738.0, 654), (-1706.0, 290), (-1708.0000000000002, 288), (-1644.0000000000002, 304), (-1502.0, 386), (-897.9999999999995, 618), (-1114.0, 562), (-1295.9999999999998, 496), (-1106.0, 562), (-1652.0, 292), (-1378.0000000000002, 454), (-688.0, 668), (-1788.0, 196), (-1709.9999999999998, 274), (-1636.0, 320), (-1392.0, 448), (-1738.0, 246), (-1720.0, 280), (-1518.0, 378), (-656.0, 672), (-322.0000000000009, 722), (-1702.0, 294), (-1344.0, 472), (-1076.0000000000002, 572), (-1740.0, 244), (-1708.0, 256), (-1612.0, 328), (-1610.0, 326), (-1493.9999999999998, 394), (-1358.0, 462), (-1214.0, 530), (-816.0, 636), (-824.0, 636), (-1740.0, 252), (-1700.0, 260), (-1712.0000000000002, 268), (-1666.0, 298), (-1550.0, 354), (-1610.0, 334), (-1618.0, 326), (-1402.0, 438), (-1632.0, 320), (-1308.0, 488), (-964.0, 600), (-1776.0, 192), (-1718.0, 242), (-1716.0, 284), (-1693.9999999999998, 286), (-1638.0, 306), (-1545.9999999999998, 362), (-824.0000000000005, 636), (-293.9999999999991, 726), (-1786.0, 174), (-1788.0, 176), (-1748.0, 248), (-1722.0, 254), (-1560.0, 348), (-1430.0, 422), (-1307.9999999999998, 488), (-1790.0, 142), (-1742.0, 246), (-1570.0, 346), (-1554.0, 354), (-1489.9999999999998, 394), (-1041.9999999999995, 582), (-1738.0, 270), (-1654.0, 302), (-1525.9999999999998, 374), (-1286.0000000000002, 502), (-1790.0, 162), (-1738.0, 242), (-1708.0, 252), (-1698.0, 262), (-1606.0, 318), (-1334.0, 474), (-1744.0, 244), (-1696.0, 268), (-1719.9999999999998, 272), (-1694.0, 286), (-1446.0, 418), (-1362.0000000000002, 462), (-1312.0000000000002, 488), (-785.9999999999995, 638), (-727.9999999999995, 656), (-1786.0, 194), (-1740.0, 240), (-1694.0, 262), (-1514.0, 382), (-1296.0, 496), (-1272.0000000000002, 508), (-1790.0, 146), (-1712.0, 260), (-1580.0, 340), (-1390.0000000000002, 442), (-1780.0, 184), (-1684.0, 268), (-1572.0, 348), (-1468.0, 400), (-1456.0, 408), (-504.00000000000045, 696), (-1718.0000000000002, 262), (-1226.0, 522), (-1075.9999999999995, 572), (-784.0000000000005, 644), (-1780.0, 172), (-1692.0, 276), (-1634.0, 298), (-1600.0000000000002, 324), (-1468.0, 408), (-682.0000000000005, 666), (-1728.0, 240), (-1644.0, 308), (-1588.0, 348), (-1383.9999999999998, 452), (-1786.0, 182), (-1788.0, 192), (-1746.0, 246), (-1707.9999999999998, 272), (-1644.0, 296), (-1578.0, 338), (-1499.9999999999998, 384), (-1365.9999999999998, 462), (-294.0000000000009, 726), (-1725.9999999999998, 278), (-1646.0, 298), (-954.0, 598), (-678.0000000000005, 670), (-1790.0, 166), (-1790.0, 170), (-1582.0, 338), (-1384.0, 448), (-1434.0000000000002, 422), (-1692.0, 264), (-1671.9999999999998, 284), (-1442.0, 418), (-1030.0, 578), (-1782.0, 198), (-1730.0, 238), (-1664.0, 304), (-800.0, 640), (-1672.0, 276), (-1662.0, 294), (-1474.0, 398), (-1018.0, 586), (-966.0000000000005, 602), (-1734.0, 258), (-1644.0, 292), (-1444.0, 416), (-1258.0, 514), (-894.0, 618), (-1786.0, 202), (-1630.0, 310), (-1626.0, 310), (-1442.0, 422), (-1356.0000000000002, 468), (-728.0, 656), (-1788.0, 188), (-1732.0, 244), (-1704.0000000000002, 292), (-1702.0, 266), (-1618.0, 330), (-1494.0, 390), (-1346.0, 466), (-876.0, 620), (-840.0, 628), (-1750.0, 242), (-1740.0, 248), (-1696.0, 264), (-1602.0, 330), (-1514.0, 378), (-904.0, 612), (-1722.0, 258), (-1708.0, 284), (-1792.0, 20), (-1788.0, 200), (-1729.9999999999998, 258), (-1650.0, 290), (-1618.0, 310), (-1136.0000000000002, 552), (-1790.0, 126), (-1734.0, 254), (-1746.0, 234), (-1702.0, 270), (-1654.0000000000002, 286), (-1338.0000000000002, 478), (-1032.0, 576), (-1734.0, 242), (-1686.0000000000002, 278), (-1674.0000000000002, 286), (-1458.0, 410), (-1392.0000000000002, 448), (-1752.0, 240), (-1726.0, 254), (-1725.9999999999998, 258), (-1675.9999999999998, 304), (-1654.0, 294), (-1442.0000000000002, 422), (-1276.0, 504), (-923.9999999999995, 612), (-1784.0, 192), (-1716.0, 240), (-1743.9999999999998, 256), (-1694.0, 278), (-1645.9999999999998, 306), (-1596.0, 340), (-1568.0, 348), (-1340.0, 476), (-1040.0000000000002, 572), (-888.0, 616), (-1788.0, 156), (-1450.0, 414), (-1375.9999999999998, 452), (-1275.9999999999998, 508), (-1730.0, 254), (-1712.0, 264), (-1670.0000000000002, 286), (-1596.0, 336), (-1354.0000000000002, 466), (-570.0, 686)]\n"
     ]
    }
   ],
   "source": [
    "def read_plateaus(fileRoot, numFiles):\n",
    "    energy = np.zeros(95)\n",
    "    magn = np.zeros(95)\n",
    "    fields = np.linspace(0,7.5,1000)\n",
    "    minEnergy = np.zeros(1000)\n",
    "    minMagn = np.zeros(1000)\n",
    "    energies = []\n",
    "    magnetizations = []\n",
    "    pairs = []\n",
    "    for idx in range(numFiles):\n",
    "        df = pd.read_csv(fileRoot+str(idx)+\".csv\",delimiter = '\\t')\n",
    "        e = np.array(df[\"Energia\"].to_list())\n",
    "        m = np.array(df[\"Magnetizacion\"].to_list())\n",
    "        f = np.array(df[\"Campo\"].to_list())\n",
    "        couplingEnergies = e+m*f\n",
    "        for n in range(len(e)):\n",
    "            currentEner = couplingEnergies[n]-fields*m[n]\n",
    "            if (couplingEnergies[n],m[n]) not in pairs:\n",
    "                energies.append(currentEner)\n",
    "                magnetizations.append(m[n])\n",
    "                pairs.append((couplingEnergies[n],m[n]))\n",
    "    print(pairs)\n",
    "    for fieldIdx,field in enumerate(fields):\n",
    "        currentEnergies = [energies[n][fieldIdx] for n in range(len(energies))]\n",
    "        idx = np.argmin(currentEnergies)\n",
    "        minEnergy[fieldIdx] = currentEnergies[idx] \n",
    "        minMagn[fieldIdx] = magnetizations[idx]\n",
    "    return (minEnergy,minMagn,fields)\n",
    "energy, magn, field = read_plateaus(\"../PT-Data/Plateaus/DatosN64Proceso\",100)\n",
    "#energy8, magn8, field8 = read_plateaus(\"../PT-Data/Plateaus/DatosN8Proceso\",100)"
   ]
  },
  {
   "cell_type": "code",
   "execution_count": 23,
   "metadata": {},
   "outputs": [
    {
     "data": {
      "text/plain": [
       "[<matplotlib.lines.Line2D at 0x7a371c2a97b0>]"
      ]
     },
     "execution_count": 23,
     "metadata": {},
     "output_type": "execute_result"
    },
    {
     "data": {
      "image/png": "[encoded data removed]",
      "text/plain": [
       "<Figure size 340.39x210.373 with 1 Axes>"
      ]
     },
     "metadata": {},
     "output_type": "display_data"
    }
   ],
   "source": [
    "plt.plot(field,magn/(64*24))"
   ]
  },
  {
   "cell_type": "code",
   "execution_count": 64,
   "metadata": {},
   "outputs": [
    {
     "data": {
      "text/plain": [
       "[<matplotlib.lines.Line2D at 0x70731f10b2b0>]"
      ]
     },
     "execution_count": 64,
     "metadata": {},
     "output_type": "execute_result"
    },
    {
     "data": {
      "image/png": "[encoded data removed]",
      "text/plain": [
       "<Figure size 340.39x210.373 with 1 Axes>"
      ]
     },
     "metadata": {},
     "output_type": "display_data"
    }
   ],
   "source": [
    "m1 = -200-hs*40\n",
    "m2 = -222-hs*26\n",
    "m3 = -160-hs*64\n",
    "m4 = -212-hs*32\n",
    "m6 = -210-hs*34\n",
    "m7 = -224-hs*24\n",
    "m8 = -224-hs*0\n",
    "m9 = -68-hs*84\n",
    "m10 = -28-hs*92\n",
    "m11 = -14-hs*94\n",
    "m12 = 672-hs*192\n",
    "\n",
    "\n",
    "\n",
    "energy = np.zeros(len(hs))\n",
    "mag = np.zeros(len(hs))\n",
    "for n in range(len(hs)):\n",
    "    test1 = np.argmin([m1[n],m2[n],m3[n],m4[n],m6[n],m7[n],m8[n],m9[n],m10[n],m11[n],m12[n]])\n",
    "    test2 = np.min([m1[n],m2[n],m3[n],m4[n],m6[n],m7[n],m8[n],m9[n],m11[n],m11[n],m12[n]])\n",
    "    mags = [40,26,64,32,34,24,0,84,92,94,192]\n",
    "    mag[n] = np.min(mags[test1])\n",
    "    energy[n] = test2\n",
    "\n",
    "plt.plot(hs,mag/192)\n"
   ]
  },
  {
   "cell_type": "code",
   "execution_count": null,
   "metadata": {},
   "outputs": [],
   "source": []
  }
 ],
 "metadata": {
  "kernelspec": {
   "display_name": "Python 3",
   "language": "python",
   "name": "python3"
  },
  "language_info": {
   "codemirror_mode": {
    "name": "ipython",
    "version": 3
   },
   "file_extension": ".py",
   "mimetype": "text/x-python",
   "name": "python",
   "nbconvert_exporter": "python",
   "pygments_lexer": "ipython3",
   "version": "3.10.12"
  }
 },
 "nbformat": 4,
 "nbformat_minor": 2
}
